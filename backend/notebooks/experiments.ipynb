{
 "cells": [
  {
   "cell_type": "code",
   "execution_count": 1,
   "id": "2e154571-827f-42c7-b1f9-7335d22dbd86",
   "metadata": {},
   "outputs": [],
   "source": [
    "from langchain_community.document_loaders import YoutubeLoader\n"
   ]
  },
  {
   "cell_type": "code",
   "execution_count": 2,
   "id": "530027ec-3f83-456f-88cf-b1c9b335dfa7",
   "metadata": {},
   "outputs": [],
   "source": [
    "loader = YoutubeLoader.from_youtube_url(\n",
    "    \"https://www.youtube.com/watch?v=W1ZZ-Yni8Fg\", add_video_info=True\n",
    ")\n"
   ]
  },
  {
   "cell_type": "code",
   "execution_count": 3,
   "id": "bd7db627-0923-4862-9221-8414516cf4b0",
   "metadata": {},
   "outputs": [],
   "source": [
    "data = loader.load()"
   ]
  },
  {
   "cell_type": "code",
   "execution_count": 4,
   "id": "0c170606-dc6d-48fc-898d-4e08978edd4f",
   "metadata": {},
   "outputs": [
    {
     "data": {
      "text/plain": [
       "{'source': 'W1ZZ-Yni8Fg',\n",
       " 'title': \"Why I'm embarrassed to be German\",\n",
       " 'description': 'Unknown',\n",
       " 'view_count': 1721185,\n",
       " 'thumbnail_url': 'https://i.ytimg.com/vi/W1ZZ-Yni8Fg/hq720.jpg',\n",
       " 'publish_date': '2024-07-06 00:00:00',\n",
       " 'length': 743,\n",
       " 'author': 'Sabine Hossenfelder'}"
      ]
     },
     "execution_count": 4,
     "metadata": {},
     "output_type": "execute_result"
    }
   ],
   "source": [
    "data[0].metadata"
   ]
  },
  {
   "cell_type": "code",
   "execution_count": 5,
   "id": "35cf81bd-e74f-40a6-9cf2-be893fe6698e",
   "metadata": {
    "scrolled": true
   },
   "outputs": [
    {
     "data": {
      "text/plain": [
       "\"I never thought I'd say this but I'm embarrassed to be German things are going seriously wrong here in Germany and I want to talk about this because I think from the outside it's not all that obvious yet I've had many people from overseas asking me what happened to your country it didn't use to be that way and that's right Germany's not the well functioning environmentally superconscious Hightech Nation it used to be you go to a train station half the trains are cancelled the other half's delayed the escalators are broken the announcements are barely Audible and in the unlikely event that you can connect to the Wi-Fi it's so slow that by the time the news is streaming it's become a historical documentary or maybe it's Quantum Wi-Fi collapses the moment you touch it okay I'm exaggerating it's not always and everywhere that bad but it gives you an impression something's wrong and it's not just the railway the German government has made a long sequence of bad decisions about our infrastructure and technological development as a consequence this country slowly but inevitably falling behind technologically and because of this also economically the world just isn't appropriately afraid of us anymore for example I have a British friend who lives in a tiny village with like 150 inhabitants somewhere in the English Countryside they don't even have a gas station I mean petrol but they've got fiber optic cable I meanwhile live in one of the most industrialized regions of Germany and I've been trying to get fiber optics for years unsuccessfully I still sit on 150 megabits per second copper cables they have faster internet on the International Space Station and I consider myself lucky because if you go a few kilometers down the street they have 5 megabits per second on a good day yes that's right 5 megabits per second internet in central Germany Germany has the second lowest fiber optic cable coverage in the European Union only place that's worse is Belgium a country which half of the time doesn't even have a government the state of the German internet is pathetic we've also been slow to switch to electric vehicles or heat pumps the German reputation for being particularly environmentally friendly has been buried in a biodegradable coffin because we like like to pretend at the moment it's something that we joke about inside the country how crap things have become like a recent commentary in a major German newspaper about the malfunctioning German Railway that was a disaster during the European forb Championship the author concluded with saying well the most environmentally friendly train is one that doesn't go or the guy who bought an electric vehicle and couldn't find a charging place that actually worked who concluded that if you buy an electric vehicle in Germany also buy a dog so that you don't have to walk home alone yes it's funny but you see humor especially sarcasm is a way to cope with problems that we can't solve because why face reality if you can mock it instead which is why looking at the jokes people make is a good way to find out how healthy their country is what do the Brits joke about well he wants net migration to be at zero well you know I want a bigger dick and it's not a policy is it see that's how a healthy country looks like what went wrong in Germany there are many factors that played a role but I think one stands out what happened with the German Railway for example is that the government privatized it in 1994 the so-called privatization converted the previously nationalized company into a stock company the share of stocks own by the state is 100% that's some privatization don't you think In The Same Spirit I really encourage you to watch whatever YouTube channel you like so long as it's mine but really this pseudo privatization isn't the main problem the main problem is that the German Railway is financed mainly by state subsidies and was grossly underfunded for almost two decades a lot of necessary repairs and upgrades weren't done our trains are now so advanced they've mastered time travel you bought in 2024 and arrive in 1995 they're now trying to fix this which is why there are constructions going on in half the country and that's what's causing the constant delays I've arrived at the point where I'm glad if a train is delayed because that means at least it's going though I got even more lucky last time I attempted to take a train because the drivers went on strike and I had to go 800 km by car I got too speeding tickets thanks for asking the internet problems have a similar cause lack of investment at the time when it was necessary instead of switching to fiber optics long ago the German government supported upgrading the existing copper cable connections big mistake they're now trying to fix it but we're far behind same problem with the switch to electric vehicles or Renewables the Germans were too slow to make decisions and that's the common theme Here the Germans are too slow slow Germans are stereotypically thorough and pay attention to detail and do everything very very precisely yes it's a stereotype but I think it's mostly true I mean it's why you're subscribed to this channel right because I can't stand it if I'm five pixels off the middle of the screen German Precision this dedication to thoroughness and precision is why the the German industry is renowned for high quality products it's also in the past saved us from a lot of folies like the doccom bubble supersonic flights sedway spray cheese you name it those were all cases where let's wait and see save Germany time and money but the world is now changing so fast that let's wait and see is no longer a good strategy a good illustration for how German thoroughness can get in the way is what they call technology often hi over here in English that would be technology openness and it basically means that the government throws tax money at any idiotic idea they can find it's basically let a thousand flowers bloom except that most of them are psychedelic mushrooms for example those electric highways that I talked about a while ago the one where the test project cost 150 million euro for 20 kilometers and was used by total of nine trucks most of them were usually out of service for repairs the idea of the electric highway is that trucks can recharge electric batteries from overhead cables while driving it's a nice idea in principle in practice the problem is you know there are no power lines alongside highways it's cheaper and faster to swap batteries in gas stations that's the fast answer anyway but the Germans are thorough so they test and evaluate and I'm sure that in as little as a decade or so they'll come to to agree with what I just told you we should also consider bringing back the horse and buggy you know just to be thorough and I haven't yet even mentioned the biggest idiocy of this technology openness which was to phase out nuclear power and Bank on a non-existing hydrogen economy you see Germany has a lot of energy intensive industry that's very difficult to decarbonize about 80% of the energy in Germany still comes from fossil fuels the obvious way to get off fossil fuels is nuclear power I say it's obvious because the technology exists already we know that it works and it would get the job done but is it really the best way to decarbonize maybe not and this is where the German thorness gets in the way because the German government thinks that if there was a hydrogen economy then it would be better to use that instead of nuclear power hey if pigs could fly maybe they'd be more carbon friendly than airplanes the German government has this crazy idea that we'll store energy from Renewables and hydrogen which can then later be used for energy generation the problem is as I've explained in several previous videos hydrogen is difficult to deal with and inefficient air storage I think it'll be much more expensive than projected and make no commercial sense and that's why I expect the hydrogen bubble to burst in the next 5 years because 90% of the planned projects will not come into existence it's also quite ironic if you know that the explosion you see in the footage from the Fukushima accident is a hydrogen explosion now you might say zabina doesn't know anything and the hydrogen economy might come along just fine fair enough but do you really want to bank the future of an entire country on the possibility that a so far non-existing part of the economy will come into being within 10 years seriously even if you are willing to take that risk how many companies do you think are willing to take it all these hydrogen powered plants can also be run on methane AK natural gas if this hydrogen business doesn't work out Germany will get stuck on fossil fuels and that's becoming increasingly unappealing for investors I think the German government is making a big mistake banking on hydrogen is really a delay game it tells us that they believe climate change will magically go away they're slow slow to realize that we can't avoid decarbonization and the more we delay it the more this country will go downhill and that's why I'm embarrassed to be German because the Germans are so slow I said I never expected to say this I said this not because I think so highly of Germany but because I've never ident identified much with Germany in the first place I've never been proud to be German so why be embarrassed because I feel like I could have done more maybe I should have studied something more useful than theoretical physics maybe I should have gone into politics maybe I should just have been a little bit louder so here I am trying to be a little bit louder really I just want people to be afraid of my German accent again that was a bit depressing what wasn't it if you need something to cheer yourself up have a look at Planet Wild Planet wild is a community funded nature protection group they restore ecosystems and change the world for the better one Mission at a time and you can become part of their Community for as little as $6 a month each month Planet Wild embarks on a new Mission which they document with videos right here on YouTube whether it's planting trees reintroducing animals to forests where they once thrived or using drones to study blue whales Planet wild is making a real difference for nature preservation in their latest Mission they're using Advanced Tech to find and save a lost frog species in Ecuador Planet wild walks the walk where others just talk the talk and you can help them visit Planet wild through the link in the description or scan the QR code to learn more if if you still need some more encouragement I have a special offer I'll cover the first month of your subscription if you're among the first 500 to sign up using my code so go and check this out thanks for watching see you tomorrow\""
      ]
     },
     "execution_count": 5,
     "metadata": {},
     "output_type": "execute_result"
    }
   ],
   "source": [
    "data[0].page_content"
   ]
  },
  {
   "cell_type": "code",
   "execution_count": 27,
   "id": "a95bb6b7-2b09-4dbb-9398-36fc74fc0547",
   "metadata": {},
   "outputs": [],
   "source": [
    "from langchain.text_splitter import RecursiveCharacterTextSplitter\n",
    "from langchain.docstore.document import Document\n",
    "\n",
    "def chunk_transcript(doc: Document) -> list[Document]:\n",
    "    text_splitter = RecursiveCharacterTextSplitter(\n",
    "        chunk_size=1000,\n",
    "        chunk_overlap=0,\n",
    "        length_function=len,\n",
    "        add_start_index=True,\n",
    "    )\n",
    "\n",
    "    chunks = text_splitter.split_documents([doc])\n",
    "\n",
    "    # add end_index\n",
    "    for chunk in chunks:\n",
    "        chunk.metadata[\"end_index\"] = chunk.metadata[\"start_index\"] + len(\n",
    "            chunk.page_content\n",
    "        )\n",
    "\n",
    "    return chunks"
   ]
  },
  {
   "cell_type": "code",
   "execution_count": 28,
   "id": "2481408f-cf85-46a8-92a6-f8bd86a43b72",
   "metadata": {},
   "outputs": [],
   "source": [
    "def generate_qa_from_transcript(transcript: Document) -> list[dict[str, str]]:\n",
    "\n",
    "    chunks = chunk_transcript(transcript)\n",
    "\n",
    "    return chunks"
   ]
  },
  {
   "cell_type": "code",
   "execution_count": 29,
   "id": "4ac2a930-5942-4dff-9354-b3d9d31bdbb1",
   "metadata": {},
   "outputs": [],
   "source": [
    "chunks = generate_qa_from_transcript(data[0])"
   ]
  },
  {
   "cell_type": "code",
   "execution_count": 33,
   "id": "9526bf5f-613e-48fa-b4b5-4ddefdc4c846",
   "metadata": {},
   "outputs": [
    {
     "data": {
      "text/plain": [
       "Document(metadata={'source': 'W1ZZ-Yni8Fg', 'title': \"Why I'm embarrassed to be German\", 'description': 'Unknown', 'view_count': 1721185, 'thumbnail_url': 'https://i.ytimg.com/vi/W1ZZ-Yni8Fg/hq720.jpg', 'publish_date': '2024-07-06 00:00:00', 'length': 743, 'author': 'Sabine Hossenfelder', 'start_index': 0, 'end_index': 990}, page_content=\"I never thought I'd say this but I'm embarrassed to be German things are going seriously wrong here in Germany and I want to talk about this because I think from the outside it's not all that obvious yet I've had many people from overseas asking me what happened to your country it didn't use to be that way and that's right Germany's not the well functioning environmentally superconscious Hightech Nation it used to be you go to a train station half the trains are cancelled the other half's delayed the escalators are broken the announcements are barely Audible and in the unlikely event that you can connect to the Wi-Fi it's so slow that by the time the news is streaming it's become a historical documentary or maybe it's Quantum Wi-Fi collapses the moment you touch it okay I'm exaggerating it's not always and everywhere that bad but it gives you an impression something's wrong and it's not just the railway the German government has made a long sequence of bad decisions about our\")"
      ]
     },
     "execution_count": 33,
     "metadata": {},
     "output_type": "execute_result"
    }
   ],
   "source": [
    "chunks[0]"
   ]
  }
 ],
 "metadata": {
  "kernelspec": {
   "display_name": "Python 3 (ipykernel)",
   "language": "python",
   "name": "python3"
  },
  "language_info": {
   "codemirror_mode": {
    "name": "ipython",
    "version": 3
   },
   "file_extension": ".py",
   "mimetype": "text/x-python",
   "name": "python",
   "nbconvert_exporter": "python",
   "pygments_lexer": "ipython3",
   "version": "3.11.9"
  }
 },
 "nbformat": 4,
 "nbformat_minor": 5
}
